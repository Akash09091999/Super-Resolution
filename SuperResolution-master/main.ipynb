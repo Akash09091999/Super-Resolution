{
 "cells": [
  {
   "cell_type": "code",
   "execution_count": null,
   "id": "be0f9d75",
   "metadata": {},
   "outputs": [
    {
     "name": "stdout",
     "output_type": "stream",
     "text": [
      "<PIL.PngImagePlugin.PngImageFile image mode=RGB size=140x160 at 0x13F8474B548>\n",
      "File name si ---------- 0027x4.png\n"
     ]
    },
    {
     "name": "stderr",
     "output_type": "stream",
     "text": [
      "C:\\Users\\akash\\Desktop\\Cloud_Computing\\final_project\\SuperResolution-master(2)\\SuperResolution-master(2)\\SuperResolution-master\\SuperResolutionClass.py:25: MatplotlibDeprecationWarning: savefig() got unexpected keyword argument \"papertype\" which is no longer supported as of 3.3 and will become an error two minor releases later\n",
      "  frameon=None, metadata=None)\n",
      "C:\\Users\\akash\\Desktop\\Cloud_Computing\\final_project\\SuperResolution-master(2)\\SuperResolution-master(2)\\SuperResolution-master\\SuperResolutionClass.py:25: MatplotlibDeprecationWarning: savefig() got unexpected keyword argument \"frameon\" which is no longer supported as of 3.3 and will become an error two minor releases later\n",
      "  frameon=None, metadata=None)\n"
     ]
    }
   ],
   "source": [
    "import io\n",
    "from base64 import b64encode,b64decode,decodebytes\n",
    "import eel\n",
    "from tkinter import Tk\n",
    "from tkinter.filedialog import askopenfilename\n",
    "from SuperResolutionClass import SuperResolution\n",
    "import numpy as np\n",
    "from PIL import Image\n",
    "from io import BytesIO\n",
    "eel.init('WebApplication')\n",
    "\n",
    "@eel.expose\n",
    "def superFunction(b64_string,fileName):\n",
    "    b64_string += \"=\" * ((4 - len(b64_string) % 4) % 4) \n",
    "    image = b64decode(b64_string)\n",
    "    lr = Image.open(BytesIO(image))\n",
    "    print(str(lr))\n",
    "    lr = np.array(lr)\n",
    "    superObject = SuperResolution()\n",
    "    hrImage = superObject.resolve_and_plot(lr,fileName)\n",
    "    encoded = b64encode(hrImage).decode(\"ascii\")\n",
    "    return \"data:image/png;base64, \" + encoded\n",
    "\n",
    "eel.start('index.html', size=(1000, 600))"
   ]
  },
  {
   "cell_type": "code",
   "execution_count": null,
   "id": "714d2570",
   "metadata": {},
   "outputs": [],
   "source": []
  }
 ],
 "metadata": {
  "kernelspec": {
   "display_name": "Python 3",
   "language": "python",
   "name": "python3"
  },
  "language_info": {
   "codemirror_mode": {
    "name": "ipython",
    "version": 3
   },
   "file_extension": ".py",
   "mimetype": "text/x-python",
   "name": "python",
   "nbconvert_exporter": "python",
   "pygments_lexer": "ipython3",
   "version": "3.7.9"
  }
 },
 "nbformat": 4,
 "nbformat_minor": 5
}
